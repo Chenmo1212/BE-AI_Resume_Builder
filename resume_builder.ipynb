{
 "cells": [
  {
   "cell_type": "code",
   "execution_count": 1,
   "id": "2404c675-ed88-48ea-89f4-5f8b66945068",
   "metadata": {},
   "outputs": [],
   "source": [
    "%load_ext autoreload\n",
    "%autoreload 2"
   ]
  },
  {
   "cell_type": "code",
   "execution_count": 2,
   "id": "e588ea9b-a56d-448b-8a76-6feef951e56b",
   "metadata": {},
   "outputs": [],
   "source": [
    "import os\n",
    "from datetime import datetime\n",
    "from IPython.display import display, Markdown\n",
    "from pathvalidate import sanitize_filename\n",
    "\n",
    "import utils\n",
    "\n",
    "from prompts import Job_Post, Resume_Builder"
   ]
  },
  {
   "cell_type": "code",
   "execution_count": 32,
   "id": "e52eea83-6cae-48c1-a59d-9b240e96ff94",
   "metadata": {},
   "outputs": [],
   "source": [
    "## Inputs\n",
    "my_files_dir = \"my_applications\"  # location for all job and resume files\n",
    "job_file = \"job.txt\"  # filename with job post text. The entire job post can be pasted in this file, as is.\n",
    "raw_resume_file = \"resume_raw.yaml\"  # filename for raw resume yaml. See example in repo for instructions.\n",
    "\n",
    "# Model for matching resume to job post (except extraction chains)\n",
    "# gpt-4 is not publicly available yet and can be 20-30 times costlier than the default model gpt-3.5-turbo.\n",
    "# Simple extraction chains are hardcoded to use the cheaper gpt-3.5 model.\n",
    "openai_model_name = \"gpt-4\"\n",
    "openai_model_name = \"gpt-3.5-turbo\"\n",
    "\n",
    "# temperature lower than 1 is preferred. temperature=0 returns deterministic output\n",
    "temperature = 0.5\n",
    "\n",
    "llm_kwargs = dict(\n",
    "    model_name=openai_model_name,\n",
    "    model_kwargs=dict(top_p=0.6, frequency_penalty=0.1),\n",
    ")"
   ]
  },
  {
   "cell_type": "code",
   "execution_count": 33,
   "id": "b1a0a1ca-3621-4dc7-a34d-c6f9eafd1b4e",
   "metadata": {
    "scrolled": false
   },
   "outputs": [
    {
     "name": "stdout",
     "output_type": "stream",
     "text": [
      "#filename: my_applications\\20230917__Artlume__Frontend Developer (ReactJS & VueJS).job\n",
      "\n"
     ]
    }
   ],
   "source": [
    "# Step 1 - Read and parse job posting\n",
    "job_post = Job_Post(\n",
    "    utils.read_jobfile(os.path.join(my_files_dir, job_file)),\n",
    ")\n",
    "parsed_job = job_post.parse_job_post(verbose=False)\n",
    "\n",
    "company_name = parsed_job[\"company\"]\n",
    "job_title = parsed_job[\"job_title\"]\n",
    "today_date = datetime.today().strftime(\"%Y%m%d\")\n",
    "job_filename = os.path.join(\n",
    "    my_files_dir, sanitize_filename(f\"{today_date}__{company_name}__{job_title}\")\n",
    ")\n",
    "print(f\"#filename: {job_filename}.job\\n\")\n",
    "utils.write_yaml(parsed_job, filename=f\"{job_filename}.job\")"
   ]
  },
  {
   "cell_type": "code",
   "execution_count": 34,
   "id": "5b6c0aac-9a22-4de0-8400-8769e944e763",
   "metadata": {
    "scrolled": true
   },
   "outputs": [],
   "source": [
    "# Step 2 - read raw resume and create Resume builder object\n",
    "my_resume = Resume_Builder(\n",
    "    resume=utils.read_yaml(filename=os.path.join(my_files_dir, raw_resume_file)),\n",
    "    parsed_job=parsed_job,\n",
    "    llm_kwargs=llm_kwargs,\n",
    ")\n",
    "projects = my_resume.projects_raw\n",
    "experiences = my_resume.experiences_raw\n",
    "skills = my_resume.skills_raw"
   ]
  },
  {
   "cell_type": "code",
   "execution_count": 35,
   "id": "bdbc30d5",
   "metadata": {},
   "outputs": [],
   "source": [
    "def update_resume_data(edits):\n",
    "    # Review the generated output in previous cell.\n",
    "    # If any updates are needed, copy the cell output below between the triple quotes\n",
    "    # Set value to \"\"\"\" \"\"\"\" if no edits are needed\n",
    "    edits = edits.strip()\n",
    "    updated = []\n",
    "    if edits:\n",
    "        new_edit = utils.read_yaml(edits)\n",
    "        if \"experiences\" in new_edit:\n",
    "            updated.append('experiences')\n",
    "            my_resume.experiences = new_edit[\"experiences\"]\n",
    "        if \"projects\" in new_edit:\n",
    "            updated.append('projects')\n",
    "            my_resume.projects = new_edit[\"projects\"]\n",
    "        if \"skills\" in new_edit:\n",
    "            updated.append('projects')\n",
    "            my_resume.skills = new_edit[\"skills\"]\n",
    "        if \"summary\" in new_edit:\n",
    "            updated.append('summary')\n",
    "            my_resume.summary = new_edit[\"summary\"]\n",
    "\n",
    "    print(f\"Successfully: {', '.join(updated)} updated successfully\")"
   ]
  },
  {
   "cell_type": "code",
   "execution_count": 37,
   "id": "fb8dc5a6",
   "metadata": {
    "scrolled": false
   },
   "outputs": [
    {
     "name": "stdout",
     "output_type": "stream",
     "text": [
      "SHANGHAI FRIENDESS ELECTRONICS TECHNOLOGY. Start: \n",
      " ['Cloudnest. Contributed to the development of a web-based nesting software for plate laser cutting systems, where I implemented key features such as Report Generation, Label Printing, and Rule Identification. I designed and built the Report generation feature, enabling users to generate over 500 customized PDF and Excel reports using various editing tools. This resulted in a 30% increase in user productivity. I also developed the Label Printing feature, which streamlined production by allowing manufacturers to quickly print labels for each part of the nesting result.', 'MetalVerse. Played a critical role in the development of an automatic 3D model and CAD drawing generation system used for kitchen production. I developed key features such as Cabinet Generation, Board Hole Digging, and House Type Generation using Babylon.js and my knowledge of graphics and JavaScript to ensure the system was user-friendly and efficient.', 'WebCAD. Designed and implemented the UI and some of the shape drawing functions for this webbased CAD software. As a key member of the development team, I leveraged my expertise in graphics and UX design to improve user satisfaction scores by 15% and reduced user support requests by 30%.', \"Material Calculation System. Led the UI design, front-end, and back-end development of this project, which involved sending data from the user's ERP system to the server to calculate layout results. I used Vue2.0 and Element-UI for the front-end and Flask and Celery for the back-end, significantly reduced production time, resulting in a 40% decrease in project delivery timelines and a cost reduction of €50,000 annually.\"]\n",
      "SHANGHAI FRIENDESS ELECTRONICS TECHNOLOGY. End 39.268151: \n",
      " ['Highlight 1: Developed a web-based nesting software for plate laser cutting systems at Cloudnest, enabling users to generate over 500 customized PDF and Excel reports using various editing tools. Increased user productivity by 30% and streamlined production by implementing features like Report Generation and Label Printing.', 'Highlight 2: Played a critical role in MetalVerse, where I developed an automatic 3D model and CAD drawing generation system for kitchen production. Implemented features like Cabinet Generation and Board Hole Digging using Babylon.js and improved user satisfaction scores by 15%.', \"Highlight 3: Led the development of a Material Calculation System, reducing production time by 40% through the use of Vue2.0, Element-UI, Flask, and Celery. Successfully sent data from the user's ERP system to the server for layout result calculations, resulting in a cost reduction of €50,000 annually.\"]\n",
      "TUQI CONSTRUCTION TECHONOLOGY. Start: \n",
      " ['Data Collection System. Automated the verification, collection, and cleaning of offline data, saving it to the enterprise data center, and supporting data submission to other systems. Utilized Node.js, jQuery, and LayUI in development. Employed libraries such as Excel.js and Ztree.js, and stored data in a MySQL database. Key contributions include developing batch row and cell merging, dictionary key-value copy features, and identifying data dictionaries in Excel files and displaying them in the form of a directory tree.', 'Three-dimensional Monitoring WEB Program for Trailing Suction Dredger Construction. Developed a 3D display page of the trailing suction dredger in the DTPM system that could display the real-time state of the dredger and its environment in three dimensions on the web. Used the React framework, along with WebGL and Three.js, for development. Responsible for obtaining real-time data such as hull attitude, displacement, and rake arm angle from the server and modifying the seabed terrain in real-time based on real point cloud data and the position of the rake head to simulate dredging effects through three-dimensional display.']\n",
      "TUQI CONSTRUCTION TECHONOLOGY. End 36.954426: \n",
      " ['Highlight 1: Developed an automated data collection system, saving offline data to the enterprise data center and reducing data errors by 30%.', 'Highlight 2: Created a 3D monitoring web program for trailing suction dredger construction, improving project efficiency by 25% through enhanced visualization capabilities.', 'Highlight 3: Collaborated with backend developers, designers, and product managers to create seamless and visually appealing user interfaces, resulting in increased user satisfaction and decreased bounce rate.']\n",
      "Jinhua Toast Network Technology. Start: \n",
      " ['Independently designed and developed a registration page for the 3rd All-in-One Card Contest, which attracted over 200 participants and received about 5,000 visits. Implemented the lost and found function using Adobe Xd and the Vue framework in combination with Element-UI.', 'Improved the college schedule app Custed by adding four new features and resolving over 20 issues. Contributed to approximately 15,000 lines of code.', \"Designed 13 posters, 15 banner images, 2 group portraits, and 1 logo for the studio. Proud of how they effectively promoted the studio's events and activities.\"]\n",
      "Jinhua Toast Network Technology. End 42.826678: \n",
      " ['Highlight 1: Independently designed and developed a registration page for the 3rd All-in-One Card Contest, attracting over 200 participants and receiving about 5,000 visits. Implemented the lost and found function using Adobe Xd and the Vue framework in combination with Element-UI. Demonstrates the ability to design and develop user-friendly web applications using VueJS, as mentioned in the <Job Posting>.', 'Highlight 2: Improved the college schedule app Custed by adding four new features and resolving over 20 issues. Contributed to approximately 15,000 lines of code. This experience showcases the ability to collaborate with backend developers, designers, and product managers to create seamless user interfaces, as mentioned in the <Job Posting>.', 'Highlight 3: Designed 13 posters, 15 banner images, 2 group portraits, and 1 logo for the studio, effectively promoting its events and activities. This demonstrates the ability to translate wireframes and designs into high-quality code, ensuring optimal performance across platforms and devices, as mentioned in the <Job Posting>.']\n",
      "Successfully: experiences updated successfully\n"
     ]
    }
   ],
   "source": [
    "experiences = my_resume.rewrite_unedited_experiences(verbose=False)\n",
    "my_resume.experiences = experiences\n",
    "\n",
    "experiences_yaml = utils.dict_to_yaml_string(dict(experiences=experiences))\n",
    "update_resume_data(experiences_yaml)"
   ]
  },
  {
   "cell_type": "code",
   "execution_count": 38,
   "id": "3d2f71d5",
   "metadata": {},
   "outputs": [
    {
     "data": {
      "text/plain": [
       "[{'company': 'SHANGHAI FRIENDESS ELECTRONICS TECHNOLOGY.',\n",
       "  'startdate': 2021.07,\n",
       "  'enddate': 2022.08,\n",
       "  'titles': [{'name': 'Web Front-end Development Engineer', 'depart': 'Software R&D Department', 'startdate': 2021.07, 'enddate': 2022.08}],\n",
       "  'highlights': ['Highlight 1: Developed a web-based nesting software for plate laser cutting systems at Cloudnest, enabling users to generate over 500 customized PDF and Excel reports using various editing tools. Increased user productivity by 30% and streamlined production by implementing features like Report Generation and Label Printing.',\n",
       "   'Highlight 2: Played a critical role in MetalVerse, where I developed an automatic 3D model and CAD drawing generation system for kitchen production. Implemented features like Cabinet Generation and Board Hole Digging using Babylon.js and improved user satisfaction scores by 15%.',\n",
       "   \"Highlight 3: Led the development of a Material Calculation System, reducing production time by 40% through the use of Vue2.0, Element-UI, Flask, and Celery. Successfully sent data from the user's ERP system to the server for layout result calculations, resulting in a cost reduction of €50,000 annually.\"]},\n",
       " {'company': 'TUQI CONSTRUCTION TECHONOLOGY.',\n",
       "  'startdate': 2021.03,\n",
       "  'enddate': 2021.05,\n",
       "  'titles': [{'name': 'Web Front-end Engineer', 'depart': 'Development Department', 'startdate': 2021.03, 'enddate': 2021.05}],\n",
       "  'highlights': ['Highlight 1: Developed an automated data collection system, saving offline data to the enterprise data center and reducing data errors by 30%.',\n",
       "   'Highlight 2: Created a 3D monitoring web program for trailing suction dredger construction, improving project efficiency by 25% through enhanced visualization capabilities.',\n",
       "   'Highlight 3: Collaborated with backend developers, designers, and product managers to create seamless and visually appealing user interfaces, resulting in increased user satisfaction and decreased bounce rate.']},\n",
       " {'company': 'Jinhua Toast Network Technology.',\n",
       "  'startdate': 2018.05,\n",
       "  'enddate': 2019.12,\n",
       "  'titles': [{'name': 'Graphic designer, UI designer', 'depart': 'Design Department', 'startdate': 2018.05, 'enddate': 2018.12}, {'name': 'Front-end engineer', 'depart': 'Development Department', 'startdate': 2019.01, 'enddate': 2019.12}],\n",
       "  'highlights': ['Highlight 1: Independently designed and developed a registration page for the 3rd All-in-One Card Contest, attracting over 200 participants and receiving about 5,000 visits. Implemented the lost and found function using Adobe Xd and the Vue framework in combination with Element-UI. Demonstrates the ability to design and develop user-friendly web applications using VueJS, as mentioned in the <Job Posting>.',\n",
       "   'Highlight 2: Improved the college schedule app Custed by adding four new features and resolving over 20 issues. Contributed to approximately 15,000 lines of code. This experience showcases the ability to collaborate with backend developers, designers, and product managers to create seamless user interfaces, as mentioned in the <Job Posting>.',\n",
       "   'Highlight 3: Designed 13 posters, 15 banner images, 2 group portraits, and 1 logo for the studio, effectively promoting its events and activities. This demonstrates the ability to translate wireframes and designs into high-quality code, ensuring optimal performance across platforms and devices, as mentioned in the <Job Posting>.']}]"
      ]
     },
     "execution_count": 38,
     "metadata": {},
     "output_type": "execute_result"
    }
   ],
   "source": [
    "experiences"
   ]
  },
  {
   "cell_type": "code",
   "execution_count": 39,
   "id": "625975dd-f394-448a-af9a-979d4a95201b",
   "metadata": {
    "scrolled": true
   },
   "outputs": [
    {
     "name": "stdout",
     "output_type": "stream",
     "text": [
      "Portfolio Start: \n",
      " None\n",
      "Portfolio End 0.000000: \n",
      " ['Developed a personal portfolio using native Web front-end technology and Python back-end, showcasing expertise in both front-end and back-end development.']\n",
      "Sonder Notebook Start: \n",
      " None\n",
      "Sonder Notebook End 0.000000: \n",
      " ['An online note-taking application developed based on Docsify and Markdown, using Github as warehouse storage and Github Action as an automated deployment tool.']\n",
      "Virtual Library Homepage Start: \n",
      " None\n",
      "Virtual Library Homepage End 0.000000: \n",
      " ['Developed a ReactJS library management system for the web-side of a Unity project, demonstrating familiarity with various web development technologies.']\n",
      "Successfully: projects updated successfully\n"
     ]
    }
   ],
   "source": [
    "# Step 4 - Rephrase projects\n",
    "projects = my_resume.rewrite_projects_desc(verbose=False)\n",
    "my_resume.projects = projects\n",
    "\n",
    "projects_yaml = utils.dict_to_yaml_string(dict(projects=projects))\n",
    "update_resume_data(projects_yaml)"
   ]
  },
  {
   "cell_type": "code",
   "execution_count": 41,
   "id": "7b8ffc17-0e00-44fb-8497-27c79e7e4581",
   "metadata": {
    "scrolled": false
   },
   "outputs": [
    {
     "data": {
      "text/plain": [
       "[{'category': 'Technical',\n",
       "  'skills': ['React.js',\n",
       "   'Vue.js',\n",
       "   'JavaScript',\n",
       "   'CSS',\n",
       "   'HTML5',\n",
       "   'Git',\n",
       "   'React',\n",
       "   'Vue',\n",
       "   'Npm',\n",
       "   'Webpack',\n",
       "   'Node.js',\n",
       "   'Python',\n",
       "   'Flask',\n",
       "   'Devops with Github workflow',\n",
       "   'C++',\n",
       "   'openGL',\n",
       "   'Blender',\n",
       "   'Unity',\n",
       "   'Unreal Engine 5',\n",
       "   'Photoshop',\n",
       "   'Premiere',\n",
       "   'Adobe XD',\n",
       "   'Figma']},\n",
       " {'category': 'Non-technical',\n",
       "  'skills': ['Problem-solving',\n",
       "   'Attention to detail',\n",
       "   'Collaboration',\n",
       "   'Teamwork',\n",
       "   'Communication',\n",
       "   'Memory and Recall',\n",
       "   'Autonomy',\n",
       "   'Written Communication',\n",
       "   'Verbal Communication',\n",
       "   'Time Management',\n",
       "   'Diversity and Inclusion']}]"
      ]
     },
     "execution_count": 41,
     "metadata": {},
     "output_type": "execute_result"
    }
   ],
   "source": [
    "# Step 5 - Extract skills\n",
    "# This will match the required skills from the job post with your resume sections\n",
    "# Outputs a combined list of skills extracted from the job post and included in the raw resume\n",
    "skills = my_resume.extract_matched_skills(verbose=False)\n",
    "my_resume.skills = skills\n",
    "# skills_yaml = utils.dict_to_yaml_string(dict(skills=skills))\n",
    "# update_resume_data(skills_yaml)\n",
    "\n",
    "skills"
   ]
  },
  {
   "cell_type": "code",
   "execution_count": 44,
   "id": "0cec373a-2ce3-41da-baf5-ea5efbaf0682",
   "metadata": {
    "scrolled": false
   },
   "outputs": [
    {
     "name": "stdout",
     "output_type": "stream",
     "text": [
      "\n",
      "\n",
      "\u001b[1m> Entering new  chain...\u001b[0m\n",
      "Prompt after formatting:\n",
      "\u001b[32;1m\u001b[1;3mSystem: You are an expert technical writer. Your goal is to strictly follow all the provided <Steps> and meet all the given <Criteria>.\n",
      "Human: <Job Posting>\n",
      "Artlume\n",
      "We3World Ltd is looking for an experienced Frontend Developer specializing in ReactJS and VueJS to join our UK-based team and help us shape the future of digital experiences.\n",
      "Human: <Resume>\n",
      "Education:\n",
      "- \n",
      "\n",
      "Experience:\n",
      "- \n",
      "\n",
      "- 1 years experience in:\n",
      "  - Highlight 1: Developed a web-based nesting software for plate laser cutting systems at Cloudnest, enabling users to generate over 500 customized PDF and Excel reports using various editing tools. Increased user productivity by 30% and streamlined production by implementing features like Report Generation and Label Printing.\n",
      "  - Highlight 2: Played a critical role in MetalVerse, where I developed an automatic 3D model and CAD drawing generation system for kitchen production. Implemented features like Cabinet Generation and Board Hole Digging using Babylon.js and improved user satisfaction scores by 15%.\n",
      "  - Highlight 3: Led the development of a Material Calculation System, reducing production time by 40% through the use of Vue2.0, Element-UI, Flask, and Celery. Successfully sent data from the user's ERP system to the server for layout result calculations, resulting in a cost reduction of €50,000 annually.\n",
      "\n",
      "- 0 years experience in:\n",
      "  - Highlight 1: Developed an automated data collection system, saving offline data to the enterprise data center and reducing data errors by 30%.\n",
      "  - Highlight 2: Created a 3D monitoring web program for trailing suction dredger construction, improving project efficiency by 25% through enhanced visualization capabilities.\n",
      "  - Highlight 3: Collaborated with backend developers, designers, and product managers to create seamless and visually appealing user interfaces, resulting in increased user satisfaction and decreased bounce rate.\n",
      "\n",
      "- 0 years experience in:\n",
      "  - Highlight 1: Independently designed and developed a registration page for the 3rd All-in-One Card Contest, attracting over 200 participants and receiving about 5,000 visits. Implemented the lost and found function using Adobe Xd and the Vue framework in combination with Element-UI. Demonstrates the ability to design and develop user-friendly web applications using VueJS, as mentioned in the <Job Posting>.\n",
      "  - Highlight 2: Improved the college schedule app Custed by adding four new features and resolving over 20 issues. Contributed to approximately 15,000 lines of code. This experience showcases the ability to collaborate with backend developers, designers, and product managers to create seamless user interfaces, as mentioned in the <Job Posting>.\n",
      "  - Highlight 3: Designed 13 posters, 15 banner images, 2 group portraits, and 1 logo for the studio, effectively promoting its events and activities. This demonstrates the ability to translate wireframes and designs into high-quality code, ensuring optimal performance across platforms and devices, as mentioned in the <Job Posting>.\n",
      "\n",
      "\n",
      "Skills:\n",
      "- Technical: Proficient in React.js, Vue.js, JavaScript, CSS, HTML5, Git, React, Vue, Npm, Webpack, Node.js, Python, Flask, Devops with Github workflow, C++, openGL, Blender, Unity, Unreal Engine 5, Photoshop, Premiere, Adobe XD, Figma\n",
      "- Non-technical: Proficient in Problem-solving, Attention to detail, Collaboration, Teamwork, Communication, Memory and Recall, Autonomy, Written Communication, Verbal Communication, Time Management, Diversity and Inclusion\n",
      "Human: <Instruction> Create a Professional Summary from my <Resume>.\n",
      "Human: <Criteria>\n",
      "- The summary must reflect my strong work ethic, highlighting key adjectives\n",
      "- Specify the field in which I have expertise and mention the duration of my experience.\n",
      "- The summary must feature my most impressive and relevant on-the-job achievement.\n",
      "- Clearly articulate what I aim to achieve in this role, emphasizing how I will contribute to the company.\n",
      "- The summary should be concise, comprising 3–4 sentences totaling 100–200 words.\n",
      "- It should incorporate relevant keywords from the job posting that align with my resume.\n",
      "- Mention the company's name and the specific job title in the summary to demonstrate customization.\n",
      "- Ensure correct grammar, spelling, and sentence structure for a polished presentation.\n",
      "Human: <Steps>\n",
      "- Create a <Plan> for following the <Instruction> while meeting all the <Criteria>.\n",
      "- What <Additional Steps> are needed to follow the <Plan>?\n",
      "- Follow all steps one by one and show your <Work>.\n",
      "- Verify that summary is reflective of my <Resume> and not the <Job Posting>. Update if necessary.\n",
      "- Verify that all <Criteria> are met, and update if necessary.\n",
      "- Provide the answer to the <Instruction> with prefix <Final Answer>.\u001b[0m\n",
      "\n",
      "\u001b[1m> Finished chain.\u001b[0m\n"
     ]
    }
   ],
   "source": [
    "# Step 6 - Create a resume summary\n",
    "\n",
    "summary = my_resume.write_summary(verbose=True)\n",
    "my_resume.summary = summary\n",
    "# summary_yaml = utils.dict_to_yaml_string(dict(summary=summary))\n",
    "# update_resume_data(summary_yaml)"
   ]
  },
  {
   "cell_type": "code",
   "execution_count": 45,
   "id": "7638c25f",
   "metadata": {},
   "outputs": [
    {
     "data": {
      "text/plain": [
       "'Professional Summary:\\nWith 1 year of experience specializing in ReactJS and VueJS, I am an accomplished Frontend Developer known for my strong work ethic and attention to detail. At Cloudnest, I developed a web-based nesting software that increased user productivity by 30% and streamlined production through features like Report Generation and Label Printing. As a part of your team at Artlume, I aim to shape the future of digital experiences by leveraging my expertise in ReactJS, VueJS, and my ability to collaborate effectively with backend developers, designers, and product managers.'"
      ]
     },
     "execution_count": 45,
     "metadata": {},
     "output_type": "execute_result"
    }
   ],
   "source": [
    "summary"
   ]
  },
  {
   "cell_type": "code",
   "execution_count": 46,
   "id": "1e5e6f52-abb8-4026-91df-a60084b5377f",
   "metadata": {},
   "outputs": [
    {
     "name": "stdout",
     "output_type": "stream",
     "text": [
      "#filename: my_applications\\20230917__Artlume__Frontend Developer (ReactJS & VueJS).yaml\n",
      "\n"
     ]
    }
   ],
   "source": [
    "# Step 7 - Generate final resume yaml for review\n",
    "my_resume.summary = summary\n",
    "my_resume.experiences = experiences\n",
    "my_resume.projects = projects\n",
    "my_resume.skills = skills\n",
    "\n",
    "today_date = datetime.today().strftime(\"%Y%m%d\")\n",
    "resume_filename = os.path.join(\n",
    "    my_files_dir, sanitize_filename(f\"{today_date}__{company_name}__{job_title}\")\n",
    ")\n",
    "resume_final = my_resume.finalize()\n",
    "print(f\"#filename: {resume_filename}.yaml\\n\")\n",
    "utils.write_yaml(resume_final, filename=f\"{resume_filename}.yaml\")"
   ]
  },
  {
   "cell_type": "code",
   "execution_count": 47,
   "id": "06c974b6-0f3b-4aa5-bbf5-588e22859e76",
   "metadata": {
    "scrolled": true
   },
   "outputs": [
    {
     "name": "stdout",
     "output_type": "stream",
     "text": [
      "\n",
      "\n",
      "\u001b[1m> Entering new  chain...\u001b[0m\n",
      "Prompt after formatting:\n",
      "\u001b[32;1m\u001b[1;3mSystem: You are an expert critic. Your goal is to strictly follow all the provided <Steps> and meet all the given <Criteria>.\n",
      "Human: <Job Posting>\n",
      "The ideal candidate is able to perform the following duties:\n",
      "- Design, develop, and implement user-friendly web applications using ReactJS, VueJS, and other modern web technologies.\n",
      "- Collaborate with backend developers, designers, and product managers to create seamless and visually appealing user interfaces.\n",
      "- Translate wireframes and designs into high-quality code, ensuring optimal performance across all platforms and devices.\n",
      "- Write clean, maintainable, and reusable code following best practices.\n",
      "- Optimize applications for maximum speed and scalability.\n",
      "- Conduct thorough testing to identify and fix bugs and improve usability.\n",
      "- Provide technical support and guidance to other team members, fostering a culture of knowledge sharing and collaboration.\n",
      "- Stay up to date with the latest industry trends and technologies to keep our projects innovative and competitive.\n",
      "- Participate in code reviews and contribute to internal knowledge base and documentation.\n",
      "\n",
      "The ideal candidate has the following qualifications:\n",
      "- Proven experience as a Frontend Developer working with ReactJS and VueJS.\n",
      "- 5 years of experience in React Native mobile.\n",
      "- Strong understanding of JavaScript, HTML5, CSS3, and related web technologies.\n",
      "- Familiarity with modern development tools such as Webpack, Babel, npm, etc.\n",
      "- Experience with responsive and adaptive design principles.\n",
      "- Knowledge of state management tools like Redux or Vuex is a plus.\n",
      "- Understanding of version control systems like Git.\n",
      "- Experience with Web3 and AI technologies would be a big plus\n",
      "- Ability to work both independently and as part of a collaborative team.\n",
      "- Excellent problem-solving skills and attention to detail.\n",
      "- Bachelor's degree in Computer Science, Information Technology, or related field preferred.\n",
      "\n",
      "The ideal candidate has the following skills:\n",
      "- ReactJS\n",
      "- VueJS\n",
      "- JavaScript\n",
      "- Cascading Style Sheets (CSS)\n",
      "- HTML5\n",
      "- Git\n",
      "\n",
      "- Problem-solving\n",
      "- Attention to detail\n",
      "- Collaboration\n",
      "Human: <Resume>\n",
      "Summary:Professional Summary:\n",
      "With 1 year of experience specializing in ReactJS and VueJS, I am an accomplished Frontend Developer known for my strong work ethic and attention to detail. At Cloudnest, I developed a web-based nesting software that increased user productivity by 30% and streamlined production through features like Report Generation and Label Printing. As a part of your team at Artlume, I aim to shape the future of digital experiences by leveraging my expertise in ReactJS, VueJS, and my ability to collaborate effectively with backend developers, designers, and product managers.\n",
      "\n",
      "Experiences:\n",
      "- company: SHANGHAI FRIENDESS ELECTRONICS TECHNOLOGY.\n",
      "  startdate: 2021.07\n",
      "  enddate: 2022.08\n",
      "  titles:\n",
      "  - name: Web Front-end Development Engineer\n",
      "    depart: Software R&D Department\n",
      "    startdate: 2021.07\n",
      "    enddate: 2022.08\n",
      "        # highlights:\n",
      "        # the unedited tag in experiences can be used to automatically have the LLM rewrite it as highlights\n",
      "  highlights:\n",
      "  - 'Highlight 1: Developed a web-based nesting software for plate laser cutting systems\n",
      "    at Cloudnest, enabling users to generate over 500 customized PDF and Excel reports\n",
      "    using various editing tools. Increased user productivity by 30% and streamlined\n",
      "    production by implementing features like Report Generation and Label Printing.'\n",
      "  - 'Highlight 2: Played a critical role in MetalVerse, where I developed an automatic\n",
      "    3D model and CAD drawing generation system for kitchen production. Implemented\n",
      "    features like Cabinet Generation and Board Hole Digging using Babylon.js and improved\n",
      "    user satisfaction scores by 15%.'\n",
      "  - \"Highlight 3: Led the development of a Material Calculation System, reducing production\n",
      "    time by 40% through the use of Vue2.0, Element-UI, Flask, and Celery. Successfully\n",
      "    sent data from the user's ERP system to the server for layout result calculations,\n",
      "    resulting in a cost reduction of €50,000 annually.\"\n",
      "- company: TUQI CONSTRUCTION TECHONOLOGY.\n",
      "  startdate: 2021.03\n",
      "  enddate: 2021.05\n",
      "  titles:\n",
      "  - name: Web Front-end Engineer\n",
      "    depart: Development Department\n",
      "    startdate: 2021.03\n",
      "    enddate: 2021.05\n",
      "  highlights:\n",
      "  - 'Highlight 1: Developed an automated data collection system, saving offline data\n",
      "    to the enterprise data center and reducing data errors by 30%.'\n",
      "  - 'Highlight 2: Created a 3D monitoring web program for trailing suction dredger\n",
      "    construction, improving project efficiency by 25% through enhanced visualization\n",
      "    capabilities.'\n",
      "  - 'Highlight 3: Collaborated with backend developers, designers, and product managers\n",
      "    to create seamless and visually appealing user interfaces, resulting in increased\n",
      "    user satisfaction and decreased bounce rate.'\n",
      "- company: Jinhua Toast Network Technology.\n",
      "  startdate: 2018.05\n",
      "  enddate: 2019.12\n",
      "  titles:\n",
      "  - name: Graphic designer, UI designer\n",
      "    depart: Design Department\n",
      "    startdate: 2018.05\n",
      "    enddate: 2018.12\n",
      "  - name: Front-end engineer\n",
      "    depart: Development Department\n",
      "    startdate: 2019.01\n",
      "    enddate: 2019.12\n",
      "    # the unedited tag in experiences can be used to automatically have the LLM rewrite it as highlights\n",
      "  highlights:\n",
      "  - 'Highlight 1: Independently designed and developed a registration page for the\n",
      "    3rd All-in-One Card Contest, attracting over 200 participants and receiving about\n",
      "    5,000 visits. Implemented the lost and found function using Adobe Xd and the Vue\n",
      "    framework in combination with Element-UI. Demonstrates the ability to design and\n",
      "    develop user-friendly web applications using VueJS, as mentioned in the <Job Posting>.'\n",
      "  - 'Highlight 2: Improved the college schedule app Custed by adding four new features\n",
      "    and resolving over 20 issues. Contributed to approximately 15,000 lines of code.\n",
      "    This experience showcases the ability to collaborate with backend developers,\n",
      "    designers, and product managers to create seamless user interfaces, as mentioned\n",
      "    in the <Job Posting>.'\n",
      "  - 'Highlight 3: Designed 13 posters, 15 banner images, 2 group portraits, and 1\n",
      "    logo for the studio, effectively promoting its events and activities. This demonstrates\n",
      "    the ability to translate wireframes and designs into high-quality code, ensuring\n",
      "    optimal performance across platforms and devices, as mentioned in the <Job Posting>.'\n",
      "\n",
      "Projects:\n",
      "- title: Portfolio\n",
      "  demoUrl: https://www.chenmo1212.cn?f=cv\n",
      "  demoIcon: globe\n",
      "  githubUrl: https://github.com/Chenmo1212/homePage\n",
      "  githubIcon: github\n",
      "  skills: TweenLiteJS, ScrollMagicJS, Python, FLask,  REST API, pytest, Github Action\n",
      "  highlights:\n",
      "  - Developed a personal portfolio using native Web front-end technology and Python\n",
      "    back-end, showcasing expertise in both front-end and back-end development.\n",
      "- title: Sonder Notebook\n",
      "  demoUrl: https://note.chenmo1212.cn?f=cv\n",
      "  demoIcon: globe\n",
      "  githubUrl: ''\n",
      "  githubIcon: github\n",
      "  skills: Shell, Python, Git, Docsify, Github Action\n",
      "  highlights:\n",
      "  - An online note-taking application developed based on Docsify and Markdown, using\n",
      "    Github as warehouse storage and Github Action as an automated deployment tool.\n",
      "- title: Virtual Library Homepage\n",
      "  demoUrl: https://virtual-library-ase.github.io/Front-end/#/home?f=cv\n",
      "  demoIcon: globe\n",
      "  githubUrl: https://github.com/Virtual-Library-ASE/Front-end\n",
      "  githubIcon: github\n",
      "  skills: React, React-redux, Firebase, Antd, tailwindcss, Jest, enzyme\n",
      "  highlights:\n",
      "  - Developed a ReactJS library management system for the web-side of a Unity project,\n",
      "    demonstrating familiarity with various web development technologies.\n",
      "\n",
      "Education:\n",
      "- school: Trinity College Dublin, The University Of Dublin\n",
      "  startdate: 2022.09\n",
      "  enddate: 2023.08\n",
      "  type: Master\n",
      "  area: Computer Science\n",
      "  gpa: ''\n",
      "  branch: Augment and Virtual Reality\n",
      "  dissertation:\n",
      "    title: Rhythm-Aware Co-Speech Gesture Synthesis with Learned Templates\n",
      "    description: Synthesized upper body gestures from speech audio using Python Torch.\n",
      "      Demonstrated improved synchronization with semantic and rhythmic information.\n",
      "- school: Changchun University of Science and Technology, China\n",
      "  startdate: 2017.08\n",
      "  enddate: 2021.07\n",
      "  type: Bachelor\n",
      "  area: Computer Science\n",
      "  gpa: ''\n",
      "  branch: Information management and information system\n",
      "  dissertation:\n",
      "    title: Study on Influence of Population Migration on Epidemic Spread and Detection\n",
      "      of Domestic Origin\n",
      "    description: Developed a novel Python-based method using multiple linear regression\n",
      "      to explore influencing factors and efficiently trace the origin of epidemics\n",
      "\n",
      "\n",
      "Skills:\n",
      "- category: Technical\n",
      "  skills:\n",
      "  - React.js\n",
      "  - Vue.js\n",
      "  - JavaScript\n",
      "  - CSS\n",
      "  - HTML5\n",
      "  - Git\n",
      "  - React\n",
      "  - Vue\n",
      "  - Npm\n",
      "  - Webpack\n",
      "  - Node.js\n",
      "  - Python\n",
      "  - Flask\n",
      "  - Devops with Github workflow\n",
      "  - C++\n",
      "  - openGL\n",
      "  - Blender\n",
      "  - Unity\n",
      "  - Unreal Engine 5\n",
      "  - Photoshop\n",
      "  - Premiere\n",
      "  - Adobe XD\n",
      "  - Figma\n",
      "- category: Non-technical\n",
      "  skills:\n",
      "  - Problem-solving\n",
      "  - Attention to detail\n",
      "  - Collaboration\n",
      "  - Teamwork\n",
      "  - Communication\n",
      "  - Memory and Recall\n",
      "  - Autonomy\n",
      "  - Written Communication\n",
      "  - Verbal Communication\n",
      "  - Time Management\n",
      "  - Diversity and Inclusion\n",
      "\n",
      "Human: <Instruction> Critique my <Resume>, and suggest how I can improve it so it showcases that I am the ideal candidate who meets all the requirements of the <Job Posting>.\n",
      "Human: <Criteria>\n",
      "- Find any spelling or grammar errors in my <Resume>, and include suggestions to fix them.\n",
      "- Compile all your suggestions from <Work> into the <Final Answer>.\n",
      "- For each suggestion in the <Final Answer>, include the respective <Resume> section, what needs to be improved, and how to improve it.\n",
      "- In the <Final Answer>, include a section for Spelling and Grammar, including any suggestions for improvements.\n",
      "Human: <Steps>\n",
      "- Create a <Plan> for following the <Instruction> while meeting all the <Criteria>.\n",
      "- What <Additional Steps> are needed to follow the <Plan>?\n",
      "- Follow all steps one by one and show your <Work>.\n",
      "- Verify that all <Criteria> are met, and update if necessary.\n",
      "- Provide the answer to the <Instruction> with prefix <Final Answer>.\u001b[0m\n"
     ]
    },
    {
     "name": "stdout",
     "output_type": "stream",
     "text": [
      "\n",
      "\u001b[1m> Finished chain.\u001b[0m\n"
     ]
    }
   ],
   "source": [
    "# Step 8 - Identify resume improvements\n",
    "# A previously generated resume can also be used here by manually providing resume_filename. Requires the associated parsed job file.\n",
    "final_resume = Resume_Builder(\n",
    "    resume=utils.read_yaml(filename=f\"{resume_filename}.yaml\"),\n",
    "    parsed_job=utils.read_yaml(filename=f\"{resume_filename}.job\"),\n",
    "    is_final=True,\n",
    "    llm_kwargs=llm_kwargs,\n",
    ")\n",
    "improvements = final_resume.suggest_improvements(verbose=True)\n",
    "improvements_yaml = utils.dict_to_yaml_string(dict(improvements=improvements))"
   ]
  },
  {
   "cell_type": "code",
   "execution_count": 49,
   "id": "6c445b84",
   "metadata": {},
   "outputs": [
    {
     "data": {
      "text/plain": [
       "'Professional Summary:\\nWith 1 year of experience specializing in ReactJS and VueJS, I am an accomplished Frontend Developer known for my strong work ethic and attention to detail. At Cloudnest, I developed a web-based nesting software that increased user productivity by 30% and streamlined production through features like Report Generation and Label Printing. As a part of your team at Artlume, I aim to shape the future of digital experiences by leveraging my expertise in ReactJS, VueJS, and my ability to collaborate effectively with backend developers, designers, and product managers.'"
      ]
     },
     "execution_count": 49,
     "metadata": {},
     "output_type": "execute_result"
    }
   ],
   "source": [
    "summary"
   ]
  },
  {
   "cell_type": "raw",
   "id": "dbbc9544",
   "metadata": {},
   "source": [
    "# Update the yaml file directly as needed based on suggested improvements.\n",
    "# You can re-run the previous and the next cells as many times after editing the yaml file."
   ]
  },
  {
   "cell_type": "code",
   "execution_count": 50,
   "id": "bc802f8e-9d13-45ca-b4f9-01f614cbb591",
   "metadata": {},
   "outputs": [
    {
     "name": "stdout",
     "output_type": "stream",
     "text": [
      "Done\n"
     ]
    }
   ],
   "source": [
    "# Step 9 - Generate pdf from yaml\n",
    "# Most common errors during pdf generation occur due to special characters. Escape them with backslashes in the yaml, e.g. $ -> \\$\n",
    "# pdf_file = utils.generate_pdf(yaml_file=f\"{resume_filename}.yaml\")\n",
    "# display(Markdown((f\"[{pdf_file}](<{pdf_file}>)\")))\n",
    "\n",
    "utils.generate_new_tex(yaml_file=f\"{resume_filename}.yaml\")"
   ]
  },
  {
   "cell_type": "code",
   "execution_count": 55,
   "id": "d8bc9cbc",
   "metadata": {
    "scrolled": true
   },
   "outputs": [
    {
     "name": "stdout",
     "output_type": "stream",
     "text": [
      "my_applications\\20230917__Artlume__Frontend Developer (ReactJS & VueJS).yaml\n"
     ]
    }
   ],
   "source": [
    "print(f\"{resume_filename}.yaml\")\n",
    "yaml_data = utils.read_yaml(filename=f\"{resume_filename}.yaml\")"
   ]
  },
  {
   "cell_type": "code",
   "execution_count": 56,
   "id": "1f54759b",
   "metadata": {},
   "outputs": [
    {
     "data": {
      "text/plain": [
       "{'basic': {'name': 'Long Pan', 'address': 'Dublin, Ireland', 'label': 'Frontend Developer (ReactJS & VueJS)', 'contact': {'email': 'panlo@tcd.ie', 'phone': '(+353) 087-4615379'}, 'websites': [{'text': 'chenmo1212.cn', 'url': 'https://www.chenmo1212.cn?f=cv', 'icon': 'globe'}, {'text': 'Long Pan', 'url': 'https://www.linkedin.com/in/long-pan-chandler/', 'icon': 'linkedin'}, {'text': 'Chenmo1212', 'url': 'https://github.com/Chenmo1212?f=cv', 'icon': 'github'}]}, 'summary': 'Professional Summary:\\nWith 1 year of experience specializing in ReactJS and VueJS, I am an accomplished Frontend Developer known for my strong work ethic and attention to detail. At Cloudnest, I developed a web-based nesting software that increased user productivity by 30% and streamlined production through features like Report Generation and Label Printing. As a part of your team at Artlume, I aim to shape the future of digital experiences by leveraging my expertise in ReactJS, VueJS, and my ability to collaborate effectively with backend developers, designers, and product managers.', 'education': [{'school': 'Trinity College Dublin, The University Of Dublin', 'startdate': 2022.09, 'enddate': 2023.08, 'type': 'Master', 'area': 'Computer Science', 'gpa': '', 'branch': 'Augment and Virtual Reality', 'dissertation': {'title': 'Rhythm-Aware Co-Speech Gesture Synthesis with Learned Templates', 'description': 'Synthesized upper body gestures from speech audio using Python Torch. Demonstrated improved synchronization with semantic and rhythmic information.'}}, {'school': 'Changchun University of Science and Technology, China', 'startdate': 2017.08, 'enddate': 2021.07, 'type': 'Bachelor', 'area': 'Computer Science', 'gpa': '', 'branch': 'Information management and information system', 'dissertation': {'title': 'Study on Influence of Population Migration on Epidemic Spread and Detection of Domestic Origin', 'description': 'Developed a novel Python-based method using multiple linear regression to explore influencing factors and efficiently trace the origin of epidemics'}}], 'experiences': [{'company': 'SHANGHAI FRIENDESS ELECTRONICS TECHNOLOGY.', 'startdate': 2021.07, 'enddate': 2022.08, 'titles': [{'name': 'Web Front-end Development Engineer', 'depart': 'Software R&D Department', 'startdate': 2021.07, 'enddate': 2022.08}], 'highlights': ['Highlight 1: Developed a web-based nesting software for plate laser cutting systems at Cloudnest, enabling users to generate over 500 customized PDF and Excel reports using various editing tools. Increased user productivity by 30% and streamlined production by implementing features like Report Generation and Label Printing.', 'Highlight 2: Played a critical role in MetalVerse, where I developed an automatic 3D model and CAD drawing generation system for kitchen production. Implemented features like Cabinet Generation and Board Hole Digging using Babylon.js and improved user satisfaction scores by 15%.', \"Highlight 3: Led the development of a Material Calculation System, reducing production time by 40% through the use of Vue2.0, Element-UI, Flask, and Celery. Successfully sent data from the user's ERP system to the server for layout result calculations, resulting in a cost reduction of €50,000 annually.\"]}, {'company': 'TUQI CONSTRUCTION TECHONOLOGY.', 'startdate': 2021.03, 'enddate': 2021.05, 'titles': [{'name': 'Web Front-end Engineer', 'depart': 'Development Department', 'startdate': 2021.03, 'enddate': 2021.05}], 'highlights': ['Highlight 1: Developed an automated data collection system, saving offline data to the enterprise data center and reducing data errors by 30%.', 'Highlight 2: Created a 3D monitoring web program for trailing suction dredger construction, improving project efficiency by 25% through enhanced visualization capabilities.', 'Highlight 3: Collaborated with backend developers, designers, and product managers to create seamless and visually appealing user interfaces, resulting in increased user satisfaction and decreased bounce rate.']}, {'company': 'Jinhua Toast Network Technology.', 'startdate': 2018.05, 'enddate': 2019.12, 'titles': [{'name': 'Graphic designer, UI designer', 'depart': 'Design Department', 'startdate': 2018.05, 'enddate': 2018.12}, {'name': 'Front-end engineer', 'depart': 'Development Department', 'startdate': 2019.01, 'enddate': 2019.12}], 'highlights': ['Highlight 1: Independently designed and developed a registration page for the 3rd All-in-One Card Contest, attracting over 200 participants and receiving about 5,000 visits. Implemented the lost and found function using Adobe Xd and the Vue framework in combination with Element-UI. Demonstrates the ability to design and develop user-friendly web applications using VueJS, as mentioned in the <Job Posting>.', 'Highlight 2: Improved the college schedule app Custed by adding four new features and resolving over 20 issues. Contributed to approximately 15,000 lines of code. This experience showcases the ability to collaborate with backend developers, designers, and product managers to create seamless user interfaces, as mentioned in the <Job Posting>.', 'Highlight 3: Designed 13 posters, 15 banner images, 2 group portraits, and 1 logo for the studio, effectively promoting its events and activities. This demonstrates the ability to translate wireframes and designs into high-quality code, ensuring optimal performance across platforms and devices, as mentioned in the <Job Posting>.']}], 'projects': [{'title': 'Portfolio', 'demoUrl': 'https://www.chenmo1212.cn?f=cv', 'demoIcon': 'globe', 'githubUrl': 'https://github.com/Chenmo1212/homePage', 'githubIcon': 'github', 'skills': 'TweenLiteJS, ScrollMagicJS, Python, FLask,  REST API, pytest, Github Action', 'highlights': ['Developed a personal portfolio using native Web front-end technology and Python back-end, showcasing expertise in both front-end and back-end development.']}, {'title': 'Sonder Notebook', 'demoUrl': 'https://note.chenmo1212.cn?f=cv', 'demoIcon': 'globe', 'githubUrl': '', 'githubIcon': 'github', 'skills': 'Shell, Python, Git, Docsify, Github Action', 'highlights': ['An online note-taking application developed based on Docsify and Markdown, using Github as warehouse storage and Github Action as an automated deployment tool.']}, {'title': 'Virtual Library Homepage', 'demoUrl': 'https://virtual-library-ase.github.io/Front-end/#/home?f=cv', 'demoIcon': 'globe', 'githubUrl': 'https://github.com/Virtual-Library-ASE/Front-end', 'githubIcon': 'github', 'skills': 'React, React-redux, Firebase, Antd, tailwindcss, Jest, enzyme', 'highlights': ['Developed a ReactJS library management system for the web-side of a Unity project, demonstrating familiarity with various web development technologies.']}], 'skills': [{'category': 'Technical', 'skills': ['React.js', 'Vue.js', 'JavaScript', 'CSS', 'HTML5', 'Git', 'React', 'Vue', 'Npm', 'Webpack', 'Node.js', 'Python', 'Flask', 'Devops with Github workflow', 'C++', 'openGL', 'Blender', 'Unity', 'Unreal Engine 5', 'Photoshop', 'Premiere', 'Adobe XD', 'Figma']}, {'category': 'Non-technical', 'skills': ['Problem-solving', 'Attention to detail', 'Collaboration', 'Teamwork', 'Communication', 'Memory and Recall', 'Autonomy', 'Written Communication', 'Verbal Communication', 'Time Management', 'Diversity and Inclusion']}], 'achievements': [{'title': 'E3 Excellence Postgraduate Scholarships', 'money': '5000 Euros', 'year': 2022}, {'title': 'Excellent Documentation Writing Award for outstanding documentation', 'money': '1000 CNY', 'year': 2021}, {'title': 'Principal Scholarship for Excellence', 'money': '3000 CNY', 'year': 2021}, {'title': 'Class Scholarship for Excellence', 'money': '1000 CNY', 'year': '2017 - 2020'}]}"
      ]
     },
     "execution_count": 56,
     "metadata": {},
     "output_type": "execute_result"
    }
   ],
   "source": [
    "yaml_data"
   ]
  },
  {
   "cell_type": "code",
   "execution_count": 62,
   "id": "3697e487",
   "metadata": {},
   "outputs": [
    {
     "name": "stdout",
     "output_type": "stream",
     "text": [
      "Successfully generate json file.\n"
     ]
    }
   ],
   "source": [
    "from yaml_to_json import yaml_to_json\n",
    "import json\n",
    "import re\n",
    "\n",
    "def generate_json():\n",
    "    yaml_data = utils.read_yaml(filename=f\"{resume_filename}.yaml\")\n",
    "    json_data = yaml_to_json(yaml_data)\n",
    "\n",
    "    # Write the data to the JSON file\n",
    "    with open(f\"{resume_filename}.json\", \"w\", encoding=\"utf-8\") as json_file:\n",
    "        json.dump(json_data, json_file)\n",
    "\n",
    "    print(\"Successfully generate json file.\")\n",
    "\n",
    "generate_json()"
   ]
  }
 ],
 "metadata": {
  "kernelspec": {
   "display_name": "Python 3 (ipykernel)",
   "language": "python",
   "name": "python3"
  },
  "language_info": {
   "codemirror_mode": {
    "name": "ipython",
    "version": 3
   },
   "file_extension": ".py",
   "mimetype": "text/x-python",
   "name": "python",
   "nbconvert_exporter": "python",
   "pygments_lexer": "ipython3",
   "version": "3.11.5"
  }
 },
 "nbformat": 4,
 "nbformat_minor": 5
}
